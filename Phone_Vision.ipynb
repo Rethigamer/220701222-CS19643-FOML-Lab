{
  "nbformat": 4,
  "nbformat_minor": 0,
  "metadata": {
    "colab": {
      "provenance": []
    },
    "kernelspec": {
      "name": "python3",
      "display_name": "Python 3"
    },
    "language_info": {
      "name": "python"
    }
  },
  "cells": [
    {
      "cell_type": "code",
      "source": [
        "import os\n",
        "import numpy as np\n",
        "import cv2\n",
        "import random\n",
        "from tensorflow.keras.datasets import mnist\n",
        "from tqdm import tqdm\n",
        "\n",
        "# Load MNIST digits\n",
        "(x_train, y_train), (_, _) = mnist.load_data()\n",
        "\n",
        "# Group digits by label\n",
        "digit_map = {i: [] for i in range(10)}\n",
        "for img, label in zip(x_train, y_train):\n",
        "    digit_map[label].append(img)\n",
        "\n",
        "# Create output folder\n",
        "output_dir = \"synthetic_phone_numbers\"\n",
        "os.makedirs(output_dir, exist_ok=True)\n",
        "\n",
        "# Function to create one phone number image\n",
        "def create_phone_number_image(digits_per_image=10):\n",
        "    digits = [random.randint(0, 9) for _ in range(digits_per_image)]\n",
        "    images = [random.choice(digit_map[d]) for d in digits]\n",
        "    full_image = np.hstack(images)  # combine digits side by side\n",
        "    return full_image, ''.join(str(d) for d in digits)\n",
        "\n",
        "# Generate dataset\n",
        "def generate_dataset(num_images=1000):\n",
        "    for i in tqdm(range(num_images)):\n",
        "        img, label = create_phone_number_image()\n",
        "        cv2.imwrite(f\"{output_dir}/{i}_{label}.png\", img)\n",
        "\n",
        "generate_dataset(1000)\n"
      ],
      "metadata": {
        "colab": {
          "base_uri": "https://localhost:8080/"
        },
        "id": "P3cKcsGU0tNb",
        "outputId": "a3efed03-265c-49a7-c8d8-0df465503321"
      },
      "execution_count": 2,
      "outputs": [
        {
          "output_type": "stream",
          "name": "stdout",
          "text": [
            "Downloading data from https://storage.googleapis.com/tensorflow/tf-keras-datasets/mnist.npz\n",
            "\u001b[1m11490434/11490434\u001b[0m \u001b[32m━━━━━━━━━━━━━━━━━━━━\u001b[0m\u001b[37m\u001b[0m \u001b[1m0s\u001b[0m 0us/step\n"
          ]
        },
        {
          "output_type": "stream",
          "name": "stderr",
          "text": [
            "100%|██████████| 1000/1000 [00:00<00:00, 3800.08it/s]\n"
          ]
        }
      ]
    },
    {
      "cell_type": "code",
      "source": [],
      "metadata": {
        "id": "p6BRkEdo0wAm"
      },
      "execution_count": null,
      "outputs": []
    },
    {
      "cell_type": "code",
      "source": [
        "from tensorflow.keras.models import Sequential\n",
        "from tensorflow.keras.layers import Conv2D, MaxPooling2D, Flatten, Dense\n",
        "from tensorflow.keras.utils import to_categorical\n",
        "import numpy as np\n",
        "import cv2\n",
        "import os\n",
        "\n",
        "# Load and prepare your synthetic data (make sure to call this only after generating the dataset)\n",
        "def load_data(image_dir=\"synthetic_phone_numbers\"):\n",
        "    X, y = [], []\n",
        "    for fname in os.listdir(image_dir):\n",
        "        if fname.endswith(\".png\"):\n",
        "            label = fname.split(\"_\")[1].split(\".\")[0]\n",
        "            img = cv2.imread(os.path.join(image_dir, fname), cv2.IMREAD_GRAYSCALE)\n",
        "            for i, digit in enumerate(label):\n",
        "                crop = img[:, i*28:(i+1)*28]  # segment 28x28 digit\n",
        "                if crop.shape == (28, 28):\n",
        "                    X.append(crop)\n",
        "                    y.append(int(digit))\n",
        "    X = np.array(X).reshape(-1, 28, 28, 1) / 255.0\n",
        "    y = to_categorical(np.array(y), num_classes=10)\n",
        "    return X, y\n",
        "\n",
        "X, y = load_data()\n",
        "\n",
        "# Define the CNN model\n",
        "model = Sequential([\n",
        "    Conv2D(32, (3, 3), activation='relu', input_shape=(28, 28, 1)),\n",
        "    MaxPooling2D(),\n",
        "    Conv2D(64, (3, 3), activation='relu'),\n",
        "    MaxPooling2D(),\n",
        "    Flatten(),\n",
        "    Dense(128, activation='relu'),\n",
        "    Dense(10, activation='softmax')  # Output layer for 10 digits (0-9)\n",
        "])\n",
        "\n",
        "# Compile the model\n",
        "model.compile(optimizer='adam', loss='categorical_crossentropy', metrics=['accuracy'])\n",
        "\n",
        "# Train the model (assuming you have the dataset loaded)\n",
        "model.fit(X, y, epochs=5, batch_size=128, validation_split=0.1)\n",
        "\n",
        "# Save the model after training\n",
        "model.save(\"digit_classifier.h5\")\n"
      ],
      "metadata": {
        "colab": {
          "base_uri": "https://localhost:8080/"
        },
        "id": "RGg_m6qEvK5k",
        "outputId": "0089d0fb-8249-4f33-9098-ef670ad63780"
      },
      "execution_count": 3,
      "outputs": [
        {
          "output_type": "stream",
          "name": "stderr",
          "text": [
            "/usr/local/lib/python3.11/dist-packages/keras/src/layers/convolutional/base_conv.py:107: UserWarning: Do not pass an `input_shape`/`input_dim` argument to a layer. When using Sequential models, prefer using an `Input(shape)` object as the first layer in the model instead.\n",
            "  super().__init__(activity_regularizer=activity_regularizer, **kwargs)\n"
          ]
        },
        {
          "output_type": "stream",
          "name": "stdout",
          "text": [
            "Epoch 1/5\n",
            "\u001b[1m71/71\u001b[0m \u001b[32m━━━━━━━━━━━━━━━━━━━━\u001b[0m\u001b[37m\u001b[0m \u001b[1m9s\u001b[0m 109ms/step - accuracy: 0.5784 - loss: 1.3463 - val_accuracy: 0.9260 - val_loss: 0.2589\n",
            "Epoch 2/5\n",
            "\u001b[1m71/71\u001b[0m \u001b[32m━━━━━━━━━━━━━━━━━━━━\u001b[0m\u001b[37m\u001b[0m \u001b[1m6s\u001b[0m 87ms/step - accuracy: 0.9252 - loss: 0.2437 - val_accuracy: 0.9520 - val_loss: 0.1524\n",
            "Epoch 3/5\n",
            "\u001b[1m71/71\u001b[0m \u001b[32m━━━━━━━━━━━━━━━━━━━━\u001b[0m\u001b[37m\u001b[0m \u001b[1m8s\u001b[0m 106ms/step - accuracy: 0.9649 - loss: 0.1212 - val_accuracy: 0.9610 - val_loss: 0.1270\n",
            "Epoch 4/5\n",
            "\u001b[1m71/71\u001b[0m \u001b[32m━━━━━━━━━━━━━━━━━━━━\u001b[0m\u001b[37m\u001b[0m \u001b[1m6s\u001b[0m 88ms/step - accuracy: 0.9748 - loss: 0.0846 - val_accuracy: 0.9700 - val_loss: 0.1069\n",
            "Epoch 5/5\n",
            "\u001b[1m71/71\u001b[0m \u001b[32m━━━━━━━━━━━━━━━━━━━━\u001b[0m\u001b[37m\u001b[0m \u001b[1m7s\u001b[0m 106ms/step - accuracy: 0.9810 - loss: 0.0589 - val_accuracy: 0.9710 - val_loss: 0.0918\n"
          ]
        },
        {
          "output_type": "stream",
          "name": "stderr",
          "text": [
            "WARNING:absl:You are saving your model as an HDF5 file via `model.save()` or `keras.saving.save_model(model)`. This file format is considered legacy. We recommend using instead the native Keras format, e.g. `model.save('my_model.keras')` or `keras.saving.save_model(model, 'my_model.keras')`. \n"
          ]
        }
      ]
    },
    {
      "cell_type": "code",
      "source": [
        "from tensorflow.keras.models import load_model\n",
        "import matplotlib.pyplot as plt\n",
        "\n",
        "# Load the trained model\n",
        "model = load_model(\"digit_classifier.h5\")\n",
        "\n",
        "# Function to predict digits from a phone number image\n",
        "def predict_phone_number(image_path):\n",
        "    img = cv2.imread(image_path, cv2.IMREAD_GRAYSCALE)\n",
        "    phone_number = \"\"\n",
        "    for i in range(10):  # 10 digits\n",
        "        digit_img = img[:, i*28:(i+1)*28]\n",
        "        digit_img = digit_img.reshape(1, 28, 28, 1) / 255.0\n",
        "        pred = model.predict(digit_img)\n",
        "        phone_number += str(np.argmax(pred))\n",
        "    return phone_number\n",
        "\n",
        "# Example usage\n",
        "image_path = \"/content/pn.png\"  # Provide your test image here\n",
        "result = predict_phone_number(image_path)\n",
        "print(\"📞 Predicted phone number:\", result)\n",
        "\n",
        "# Optional: Display the image\n",
        "plt.imshow(cv2.imread(image_path, cv2.IMREAD_GRAYSCALE), cmap=\"gray\")\n",
        "plt.title(f\"Predicted: {result}\")\n",
        "plt.axis(\"off\")\n",
        "plt.show()"
      ],
      "metadata": {
        "colab": {
          "base_uri": "https://localhost:8080/",
          "height": 342
        },
        "id": "MIJuO2rv1GdE",
        "outputId": "2cbdc0b6-532d-4093-b992-4ce072c1a6c6"
      },
      "execution_count": 4,
      "outputs": [
        {
          "output_type": "stream",
          "name": "stderr",
          "text": [
            "WARNING:absl:Compiled the loaded model, but the compiled metrics have yet to be built. `model.compile_metrics` will be empty until you train or evaluate the model.\n"
          ]
        },
        {
          "output_type": "stream",
          "name": "stdout",
          "text": [
            "\u001b[1m1/1\u001b[0m \u001b[32m━━━━━━━━━━━━━━━━━━━━\u001b[0m\u001b[37m\u001b[0m \u001b[1m0s\u001b[0m 139ms/step\n",
            "\u001b[1m1/1\u001b[0m \u001b[32m━━━━━━━━━━━━━━━━━━━━\u001b[0m\u001b[37m\u001b[0m \u001b[1m0s\u001b[0m 50ms/step\n",
            "\u001b[1m1/1\u001b[0m \u001b[32m━━━━━━━━━━━━━━━━━━━━\u001b[0m\u001b[37m\u001b[0m \u001b[1m0s\u001b[0m 50ms/step\n",
            "\u001b[1m1/1\u001b[0m \u001b[32m━━━━━━━━━━━━━━━━━━━━\u001b[0m\u001b[37m\u001b[0m \u001b[1m0s\u001b[0m 68ms/step\n",
            "\u001b[1m1/1\u001b[0m \u001b[32m━━━━━━━━━━━━━━━━━━━━\u001b[0m\u001b[37m\u001b[0m \u001b[1m0s\u001b[0m 54ms/step\n",
            "\u001b[1m1/1\u001b[0m \u001b[32m━━━━━━━━━━━━━━━━━━━━\u001b[0m\u001b[37m\u001b[0m \u001b[1m0s\u001b[0m 49ms/step\n",
            "\u001b[1m1/1\u001b[0m \u001b[32m━━━━━━━━━━━━━━━━━━━━\u001b[0m\u001b[37m\u001b[0m \u001b[1m0s\u001b[0m 59ms/step\n",
            "\u001b[1m1/1\u001b[0m \u001b[32m━━━━━━━━━━━━━━━━━━━━\u001b[0m\u001b[37m\u001b[0m \u001b[1m0s\u001b[0m 56ms/step\n",
            "\u001b[1m1/1\u001b[0m \u001b[32m━━━━━━━━━━━━━━━━━━━━\u001b[0m\u001b[37m\u001b[0m \u001b[1m0s\u001b[0m 57ms/step\n",
            "\u001b[1m1/1\u001b[0m \u001b[32m━━━━━━━━━━━━━━━━━━━━\u001b[0m\u001b[37m\u001b[0m \u001b[1m0s\u001b[0m 36ms/step\n",
            "📞 Predicted phone number: 6685260654\n"
          ]
        },
        {
          "output_type": "display_data",
          "data": {
            "text/plain": [
              "<Figure size 640x480 with 1 Axes>"
            ],
            "image/png": "[encoded data removed]"
          },
          "metadata": {}
        }
      ]
    }
  ]
}